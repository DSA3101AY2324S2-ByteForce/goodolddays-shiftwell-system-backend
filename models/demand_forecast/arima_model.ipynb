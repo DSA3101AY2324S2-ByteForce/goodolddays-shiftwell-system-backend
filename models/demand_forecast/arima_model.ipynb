{
 "cells": [
  {
   "cell_type": "markdown",
   "metadata": {},
   "source": [
    "# Demand Forecast: ARIMA Model"
   ]
  },
  {
   "cell_type": "code",
   "execution_count": 1,
   "metadata": {},
   "outputs": [
    {
     "name": "stderr",
     "output_type": "stream",
     "text": [
      "/var/folders/x4/_l78dvs92m346fbfkb6pl1h40000gn/T/ipykernel_24255/3495411437.py:16: DeprecationWarning: `import kerastuner` is deprecated, please use `import keras_tuner`.\n",
      "  from kerastuner.tuners import Hyperband\n"
     ]
    }
   ],
   "source": [
    "#import necessary libraries\n",
    "import datetime\n",
    "import pandas as pd\n",
    "import numpy as np\n",
    "import matplotlib.pyplot as plt\n",
    "from statsmodels.tsa.arima.model import ARIMA\n",
    "from statsmodels.graphics.tsaplots import plot_acf, plot_pacf\n",
    "from sklearn.metrics import mean_squared_error\n",
    "from sklearn.model_selection import train_test_split, cross_val_score\n",
    "from statsmodels.tsa.stattools import adfuller\n",
    "import itertools\n",
    "import warnings\n",
    "from tensorflow.keras.models import Sequential\n",
    "from tensorflow.keras.layers import LSTM, Dense, Dropout\n",
    "from sklearn.preprocessing import MinMaxScaler\n",
    "from kerastuner.tuners import Hyperband\n",
    "from tensorflow import keras"
   ]
  },
  {
   "cell_type": "markdown",
   "metadata": {},
   "source": [
    "#### Data Preparation"
   ]
  },
  {
   "cell_type": "code",
   "execution_count": 3,
   "metadata": {},
   "outputs": [
    {
     "data": {
      "text/html": [
       "<div>\n",
       "<style scoped>\n",
       "    .dataframe tbody tr th:only-of-type {\n",
       "        vertical-align: middle;\n",
       "    }\n",
       "\n",
       "    .dataframe tbody tr th {\n",
       "        vertical-align: top;\n",
       "    }\n",
       "\n",
       "    .dataframe thead th {\n",
       "        text-align: right;\n",
       "    }\n",
       "</style>\n",
       "<table border=\"1\" class=\"dataframe\">\n",
       "  <thead>\n",
       "    <tr style=\"text-align: right;\">\n",
       "      <th></th>\n",
       "      <th>day_of_week</th>\n",
       "      <th>visit_date</th>\n",
       "      <th>visitors</th>\n",
       "      <th>Daily Rainfall Total (mm)</th>\n",
       "      <th>Mean Temperature (°C)</th>\n",
       "      <th>holiday_flg_sg</th>\n",
       "      <th>holiday_flg_cn</th>\n",
       "      <th>holiday_flg_in</th>\n",
       "    </tr>\n",
       "  </thead>\n",
       "  <tbody>\n",
       "    <tr>\n",
       "      <th>0</th>\n",
       "      <td>Sunday</td>\n",
       "      <td>2023-01-01</td>\n",
       "      <td>409</td>\n",
       "      <td>0.0</td>\n",
       "      <td>27.8</td>\n",
       "      <td>1</td>\n",
       "      <td>1</td>\n",
       "      <td>1</td>\n",
       "    </tr>\n",
       "    <tr>\n",
       "      <th>1</th>\n",
       "      <td>Monday</td>\n",
       "      <td>2023-01-02</td>\n",
       "      <td>276</td>\n",
       "      <td>4.0</td>\n",
       "      <td>27.5</td>\n",
       "      <td>1</td>\n",
       "      <td>1</td>\n",
       "      <td>1</td>\n",
       "    </tr>\n",
       "    <tr>\n",
       "      <th>2</th>\n",
       "      <td>Tuesday</td>\n",
       "      <td>2023-01-03</td>\n",
       "      <td>158</td>\n",
       "      <td>5.8</td>\n",
       "      <td>27.0</td>\n",
       "      <td>0</td>\n",
       "      <td>0</td>\n",
       "      <td>0</td>\n",
       "    </tr>\n",
       "    <tr>\n",
       "      <th>3</th>\n",
       "      <td>Wednesday</td>\n",
       "      <td>2023-01-04</td>\n",
       "      <td>118</td>\n",
       "      <td>0.0</td>\n",
       "      <td>27.1</td>\n",
       "      <td>0</td>\n",
       "      <td>0</td>\n",
       "      <td>0</td>\n",
       "    </tr>\n",
       "    <tr>\n",
       "      <th>4</th>\n",
       "      <td>Thursday</td>\n",
       "      <td>2023-01-05</td>\n",
       "      <td>110</td>\n",
       "      <td>38.6</td>\n",
       "      <td>26.4</td>\n",
       "      <td>0</td>\n",
       "      <td>0</td>\n",
       "      <td>0</td>\n",
       "    </tr>\n",
       "  </tbody>\n",
       "</table>\n",
       "</div>"
      ],
      "text/plain": [
       "  day_of_week visit_date  visitors  Daily Rainfall Total (mm)   \n",
       "0      Sunday 2023-01-01       409                        0.0  \\\n",
       "1      Monday 2023-01-02       276                        4.0   \n",
       "2     Tuesday 2023-01-03       158                        5.8   \n",
       "3   Wednesday 2023-01-04       118                        0.0   \n",
       "4    Thursday 2023-01-05       110                       38.6   \n",
       "\n",
       "   Mean Temperature (°C)  holiday_flg_sg  holiday_flg_cn  holiday_flg_in  \n",
       "0                   27.8               1               1               1  \n",
       "1                   27.5               1               1               1  \n",
       "2                   27.0               0               0               0  \n",
       "3                   27.1               0               0               0  \n",
       "4                   26.4               0               0               0  "
      ]
     },
     "execution_count": 3,
     "metadata": {},
     "output_type": "execute_result"
    }
   ],
   "source": [
    "# Load visitor data\n",
    "visitor_data = pd.read_csv(\"../../data/raw/synthetic_visit_data.csv\")\n",
    "visitor_data['visit_date'] = pd.to_datetime(visitor_data['visit_date'])\n",
    "#visitor_data.head()\n",
    "\n",
    "weather_data = pd.read_csv(\"../../data/processed/weather_data_cleaned.csv\")\n",
    "weather_data['Date'] = pd.to_datetime(weather_data['Date'])\n",
    "columns_to_drop = weather_data.columns[0:3].tolist()  # Dropping columns by indices\n",
    "weather_data.drop(columns=columns_to_drop, inplace=True)\n",
    "#weather_data.head()\n",
    "\n",
    "holiday_data = pd.read_csv(\"../../data/raw/date_info_2324.csv\")\n",
    "holiday_data['calendar_date'] = pd.to_datetime(holiday_data['calendar_date'])\n",
    "holiday_data.rename(columns={'calendar_date': 'calender_date'}, inplace=True)\n",
    "holiday_data.drop(columns=\"day_of_week\", inplace=True)\n",
    "#holiday_data.head()\n",
    "\n",
    "merged_data = pd.merge(visitor_data, weather_data, left_on='visit_date', right_on='Date', how='left')\n",
    "merged_data = pd.merge(merged_data, holiday_data, left_on='visit_date', right_on='calender_date', how='left')\n",
    "merged_data.drop(columns=[\"Date\",\"calender_date\",\"Highest 30 min Rainfall (mm)\",\"Highest 60 min Rainfall (mm)\",\"Highest 120 min Rainfall (mm)\",\"Maximum Temperature (°C)\",\"Minimum Temperature (°C)\",\"Mean Wind Speed (km/h)\",\"Max Wind Speed (km/h)\"], inplace=True)\n",
    "merged_data.head()"
   ]
  },
  {
   "cell_type": "markdown",
   "metadata": {},
   "source": [
    "### ARIMA Model"
   ]
  },
  {
   "cell_type": "markdown",
   "metadata": {},
   "source": [
    "1. Check for stationarity"
   ]
  },
  {
   "cell_type": "code",
   "execution_count": 6,
   "metadata": {},
   "outputs": [
    {
     "name": "stdout",
     "output_type": "stream",
     "text": [
      "ADF Statistic: -4.540648893121904\n",
      "p-value: 0.00016592835765189215\n",
      "Series is stationary\n"
     ]
    }
   ],
   "source": [
    "def check_stationarity(series):\n",
    "    result = adfuller(series.dropna())\n",
    "    print('ADF Statistic:', result[0])\n",
    "    print('p-value:', result[1])\n",
    "    if result[1] > 0.05:\n",
    "        print(\"Series is not stationary\")\n",
    "    else:\n",
    "        print(\"Series is stationary\")\n",
    "\n",
    "check_stationarity(df['visitors'])"
   ]
  },
  {
   "cell_type": "markdown",
   "metadata": {},
   "source": [
    "2. Plotting ACF and PACF to determine order parameters of ARIMA Model (p,d,q)"
   ]
  },
  {
   "cell_type": "code",
   "execution_count": 8,
   "metadata": {},
   "outputs": [
    {
     "data": {
      "image/png": "[encoded data removed]",
      "text/plain": [
       "<Figure size 640x480 with 1 Axes>"
      ]
     },
     "metadata": {},
     "output_type": "display_data"
    },
    {
     "data": {
      "image/png": "[encoded data removed]",
      "text/plain": [
       "<Figure size 640x480 with 1 Axes>"
      ]
     },
     "metadata": {},
     "output_type": "display_data"
    }
   ],
   "source": [
    "plot_acf(df['visitors'].dropna())\n",
    "plot_pacf(df['visitors'].dropna())\n",
    "plt.show()"
   ]
  },
  {
   "cell_type": "markdown",
   "metadata": {},
   "source": [
    "ACF and PACF Plots: Use the Autocorrelation Function (ACF) and Partial Autocorrelation Function (PACF) plots to determine the potential values for q and p, respectively.\n",
    "\n",
    "ACF Plot for q: The ACF plot shows the correlation of the series with its lags. In general, you're looking for the point where the ACF plot crosses the upper confidence interval for the first time. This point suggests a good starting value for q.\n",
    "\n",
    "PACF Plot for p: The PACF plot shows the partial correlation of the series with its lags. You're looking for the point where the PACF plot crosses the upper confidence interval for the first time. This point is a good starting value for p.\n",
    "\n",
    "From above plot, we shall try q = 1 and p = 1."
   ]
  },
  {
   "cell_type": "markdown",
   "metadata": {},
   "source": [
    "3. Model fitting"
   ]
  },
  {
   "cell_type": "code",
   "execution_count": 11,
   "metadata": {},
   "outputs": [
    {
     "name": "stderr",
     "output_type": "stream",
     "text": [
      "/Library/Frameworks/Python.framework/Versions/3.10/lib/python3.10/site-packages/statsmodels/base/model.py:607: ConvergenceWarning: Maximum Likelihood optimization failed to converge. Check mle_retvals\n",
      "  warnings.warn(\"Maximum Likelihood optimization failed to \"\n"
     ]
    }
   ],
   "source": [
    "train_percent = 0.8  # Use 80% of the data for training\n",
    "split_index = int(len(merged_data) * train_percent)\n",
    "train_data = visitor_data['visitors'].iloc[:split_index]\n",
    "test_data = visitor_data['visitors'].iloc[split_index:]\n",
    "model = ARIMA(train_data, order=(4,1,3))  # p, d, q to be chosen based on your ACF and PACF analysis\n",
    "model_fit = model.fit()\n",
    "\n",
    "# Forecast\n",
    "forecast = model_fit.forecast(steps=100)\n",
    "forecast = pd.Series(forecast, index=test_data.index)"
   ]
  },
  {
   "cell_type": "markdown",
   "metadata": {},
   "source": [
    "4. Fine-tuning hyperparameters using Grid Search"
   ]
  },
  {
   "cell_type": "code",
   "execution_count": 12,
   "metadata": {},
   "outputs": [
    {
     "name": "stdout",
     "output_type": "stream",
     "text": [
      "Best ARIMA(4, 1, 3) AIC=4850.800678658924\n"
     ]
    }
   ],
   "source": [
    "p = d = q = range(0, 5)\n",
    "pdq = list(itertools.product(p, d, q))\n",
    "\n",
    "warnings.filterwarnings(\"ignore\")  # ignore warnings from ARIMA fitting\n",
    "\n",
    "best_aic = np.inf\n",
    "best_pdq = None\n",
    "best_model = None\n",
    "\n",
    "for param in pdq:\n",
    "    try:\n",
    "        mod = ARIMA(df['visitors'], order=param)\n",
    "        results = mod.fit()\n",
    "        \n",
    "        # Compare current model's AIC with the best so far\n",
    "        if results.aic < best_aic:\n",
    "            best_aic = results.aic\n",
    "            best_pdq = param\n",
    "            best_model = results\n",
    "    except:\n",
    "        continue\n",
    "\n",
    "print('Best ARIMA{} AIC={}'.format(best_pdq, best_aic))"
   ]
  },
  {
   "cell_type": "code",
   "execution_count": 13,
   "metadata": {},
   "outputs": [
    {
     "name": "stdout",
     "output_type": "stream",
     "text": [
      "RMSE: 126.99599003456744\n"
     ]
    }
   ],
   "source": [
    "# Evaluate model\n",
    "mse = mean_squared_error(test_data, forecast)\n",
    "rmse = np.sqrt(mse)\n",
    "print(f'RMSE: {rmse}')"
   ]
  }
 ],
 "metadata": {
  "kernelspec": {
   "display_name": "Python 3",
   "language": "python",
   "name": "python3"
  },
  "language_info": {
   "codemirror_mode": {
    "name": "ipython",
    "version": 3
   },
   "file_extension": ".py",
   "mimetype": "text/x-python",
   "name": "python",
   "nbconvert_exporter": "python",
   "pygments_lexer": "ipython3",
   "version": "3.10.2"
  }
 },
 "nbformat": 4,
 "nbformat_minor": 2
}
